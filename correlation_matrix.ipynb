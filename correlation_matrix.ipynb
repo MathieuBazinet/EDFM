{
  "cells": [
    {
      "cell_type": "code",
      "execution_count": null,
      "metadata": {
        "id": "AMC3ufWpqMqp"
      },
      "outputs": [],
      "source": [
        "import numpy as np\n",
        "import pandas as pd\n",
        "from sklearn.tree import DecisionTreeRegressor\n",
        "from sklearn.ensemble import RandomForestRegressor\n",
        "from sklearn.model_selection import cross_val_score\n",
        "from sklearn.model_selection import GridSearchCV\n",
        "from sklearn import tree\n",
        "import graphviz\n",
        "import os\n",
        "import matplotlib.pyplot as plt\n",
        "import seaborn as sns\n",
        "from scipy.stats import pearsonr"
      ]
    },
    {
      "cell_type": "markdown",
      "metadata": {
        "id": "XBJpBIAFrwN0"
      },
      "source": [
        "# Avec les deux premières membranes"
      ]
    },
    {
      "cell_type": "code",
      "execution_count": null,
      "metadata": {
        "id": "B1f4U-zNoE0A"
      },
      "outputs": [],
      "source": [
        "def load_data():\n",
        "    df = pd.read_csv(\"./Donnees_peptides_membranes.csv\", sep=\";\")\n",
        "    l = ['R1 A-', 'R2 A-', 'R3 A-', 'R1 C+', 'R2 C+', 'R3 C+']\n",
        "    y = df[l]\n",
        "    y.rename(columns={'R1 A-': 'R1_A', 'R2 A-': 'R2_A',\n",
        "                      'R3 A-': 'R3_A', 'R1 C+': 'R1_C',\n",
        "                      'R2 C+': 'R2_C', 'R3 C+': 'R3_C'},\n",
        "             inplace=True)\n",
        "    l = l + ['membrane', 'Peptides', 'bend_percent', 'turn_percent']\n",
        "    df = df.drop(columns=l)\n",
        "    return df, y\n",
        "\n",
        "def load_data_mean(boolean):\n",
        "    \"\"\"\n",
        "    Retourne les données. On prend la moyenne de la variable réponse.\n",
        "    :param boolean: True si on veut les données positives, False sinon.\n",
        "    :return:\n",
        "    \"\"\"\n",
        "    df, y = load_data()\n",
        "    if boolean:\n",
        "        y_pos = y[['R1_C', 'R2_C', 'R2_C']].mean(axis=1)\n",
        "        return df, y_pos\n",
        "    else:\n",
        "        y_neg = y[['R1_A', 'R2_A', 'R3_A']].mean(axis=1)\n",
        "        return df, y_neg"
      ]
    },
    {
      "cell_type": "markdown",
      "metadata": {
        "id": "TaybI1p3rBtD"
      },
      "source": [
        "## Corrélation Membrane-Membrane"
      ]
    },
    {
      "cell_type": "code",
      "execution_count": null,
      "metadata": {
        "colab": {
          "base_uri": "https://localhost:8080/",
          "height": 1000
        },
        "id": "k7t8IT7Wp8MF",
        "outputId": "b6b99123-f154-45d5-dc11-cd7f80322d59"
      },
      "outputs": [],
      "source": [
        "X, y = load_data_mean(True)\n",
        "membrane = ['Thickness', 'Conductivity', 'Contact angle', 'hydrophilic pores',\n",
        "     'Volumetric porosity', 'Zeta-potential', 'Ra', 'Rz', 'Porosity FL',\n",
        "     ' Macropores FL']\n",
        "membrane_X = X[membrane]\n",
        "df_membrane = membrane_X.corr()\n",
        "plt.figure(figsize=(20, 20))\n",
        "sns.heatmap(df_membrane, annot=True)\n",
        "plt.savefig(\"./matrice_correlation_membrane.pdf\")"
      ]
    },
    {
      "cell_type": "code",
      "execution_count": null,
      "metadata": {
        "colab": {
          "base_uri": "https://localhost:8080/"
        },
        "id": "V0FeaY1rqpGQ",
        "outputId": "b57e5a66-cb10-4105-9a2c-805634a2524f"
      },
      "outputs": [],
      "source": [
        "array_membrane = df_membrane.values\n",
        "print(\"=\"*20, \"Corrélation entre les caractéristiques de membranes\", \"=\"*20)\n",
        "for i in range(array_membrane.shape[0]):\n",
        "    for j in range(i+1, array_membrane.shape[1]):\n",
        "        if np.abs(array_membrane[i, j]) >= 0.6:\n",
        "            print(membrane[i], \" + \",  membrane[j], \"avec une corrélation de \", array_membrane[i, j])"
      ]
    },
    {
      "cell_type": "markdown",
      "metadata": {
        "id": "BDTy-aQPrHLA"
      },
      "source": [
        "## Corrélation Peptide-Peptide"
      ]
    },
    {
      "cell_type": "code",
      "execution_count": null,
      "metadata": {
        "colab": {
          "base_uri": "https://localhost:8080/",
          "height": 1000
        },
        "id": "e6hRwENMqQe3",
        "outputId": "09b7586a-aabe-4aa5-c0be-592d440fc674"
      },
      "outputs": [],
      "source": [
        "peptide = ['length_peptide', 'mol_weight', 'isoelectric_point',\n",
        "  'GRAVY', 'netCharge_at_pH7.0', 'm/z_at_pH7.0', 'avg_hydro',\n",
        "  'aromaticity', 'instability_index', 'avg_num_hacceptors',\n",
        "  'avg_num_hdonors', 'NumRotatableBonds', 'Hall Kier Alpha', 'Kappa 1',\n",
        "  'avg_NumRings', 'Fraction CSP3', 'TPSA', 'CrippenClogP', 'Hydro R',\n",
        "  'Basic R', 'Acidic R', 'Polar R', 'A', 'C', 'D', 'E', 'F', 'G', 'H',\n",
        "  'I', 'K', 'L', 'M', 'N', 'P', 'Q', 'R', 'S', 'T', 'V', 'W', 'Y']\n",
        "peptide_X = X[peptide]\n",
        "df_peptide = peptide_X.corr()\n",
        "plt.figure(figsize=(40, 40))\n",
        "sns.heatmap(df_peptide, annot=True)\n",
        "plt.savefig(\"./matrice_correlation_peptide.pdf\")"
      ]
    },
    {
      "cell_type": "code",
      "execution_count": null,
      "metadata": {
        "colab": {
          "base_uri": "https://localhost:8080/"
        },
        "id": "fpoFa5DVq1CN",
        "outputId": "6200700f-a41d-41ef-9d8e-25f3a7e7c6d4"
      },
      "outputs": [],
      "source": [
        "print(\"\\n\", \"=\" * 20, \"Corrélation entre les caractéristiques de peptides\", \"=\" * 20)\n",
        "array_peptide = df_peptide.values\n",
        "for i in range(array_peptide.shape[0]):\n",
        "    for j in range(i+1, array_peptide.shape[1]):\n",
        "        if np.abs(array_peptide[i, j]) >= 0.6:\n",
        "            print(peptide[i], \" + \", peptide[j], \"avec une corrélation de \", array_peptide[i, j])"
      ]
    },
    {
      "cell_type": "markdown",
      "metadata": {
        "id": "LDdzrenJrL7L"
      },
      "source": [
        "## Corrélation données-étiquettes"
      ]
    },
    {
      "cell_type": "code",
      "execution_count": null,
      "metadata": {
        "colab": {
          "base_uri": "https://localhost:8080/",
          "height": 1000
        },
        "id": "EXtSKUhGq54l",
        "outputId": "82507929-b6c3-4b65-fe72-75bc5f364054"
      },
      "outputs": [],
      "source": [
        "X, y_pos = load_data_mean(True)\n",
        "_, y_neg = load_data_mean(False)\n",
        "array = X.values\n",
        "pos_vals = []\n",
        "neg_vals = []\n",
        "for i in range(array.shape[1]):\n",
        "    pos_vals.append(pearsonr(array[:, i], y_pos)[0])\n",
        "    neg_vals.append(pearsonr(array[:, i], y_neg)[0])\n",
        "df_y = pd.DataFrame(np.array([pos_vals, neg_vals]).T, index=X.columns, columns=['Positif', 'Négatif'])\n",
        "plt.figure(figsize=(15, 20))\n",
        "sns.heatmap(df_y, annot=True)\n",
        "plt.savefig(\"./correlation_y_values.pdf\")"
      ]
    },
    {
      "cell_type": "code",
      "execution_count": null,
      "metadata": {
        "id": "6IreD-NWuOY6"
      },
      "outputs": [],
      "source": [
        "df_peptide_avec = df_peptide\n",
        "df_membrane_avec = df_membrane\n",
        "df_y_avec = df_y"
      ]
    },
    {
      "cell_type": "markdown",
      "metadata": {
        "id": "HVfPcqa583q2"
      },
      "source": [
        "## Calcul de l'importance avec les deux premières membranes"
      ]
    },
    {
      "cell_type": "code",
      "execution_count": null,
      "metadata": {
        "colab": {
          "base_uri": "https://localhost:8080/"
        },
        "id": "HsQb501Y856m",
        "outputId": "92ca7d3c-9610-4125-ba85-15232bd5e86a"
      },
      "outputs": [],
      "source": [
        "X, y = load_data_mean(True)\n",
        "membrane = ['Contact angle', 'hydrophilic pores',\n",
        "            'Volumetric porosity', 'Zeta-potential', 'Rz', ' Macropores FL']\n",
        "\n",
        "peptide = ['mol_weight', 'isoelectric_point',\n",
        "           'GRAVY', 'm/z_at_pH7.0',\n",
        "            'Hall Kier Alpha', 'Polar R', 'A', 'D', 'F', 'H',\n",
        "            'K', 'L', 'N', 'Q', 'R', 'S', 'T', 'V', 'W', 'Y']\n",
        "X_selected = X[membrane + peptide]\n",
        "\n",
        "regressor = RandomForestRegressor(random_state=1, n_estimators=1000)\n",
        "regressor.fit(X_selected, y)\n",
        "print(\"=\"*10, \"Y positifs\", \"=\"*10)\n",
        "print(pd.DataFrame(regressor.feature_importances_.T, index=X_selected.columns).sort_values(by=0, ascending=False))"
      ]
    },
    {
      "cell_type": "code",
      "execution_count": null,
      "metadata": {
        "colab": {
          "base_uri": "https://localhost:8080/"
        },
        "id": "VKmPUVXg89Af",
        "outputId": "6cbd6df4-867b-4e74-cee9-8f70943aa210"
      },
      "outputs": [],
      "source": [
        "X, y = load_data_mean(False)\n",
        "membrane = ['Contact angle', 'hydrophilic pores',\n",
        "            'Volumetric porosity', 'Zeta-potential', 'Rz', ' Macropores FL']\n",
        "\n",
        "peptide = ['mol_weight', 'isoelectric_point',\n",
        "           'GRAVY', 'm/z_at_pH7.0',\n",
        "            'Hall Kier Alpha', 'Polar R', 'A', 'D', 'F', 'H',\n",
        "            'K', 'L', 'N', 'Q', 'R', 'S', 'T', 'V', 'W', 'Y']\n",
        "X_selected = X[membrane + peptide]\n",
        "\n",
        "regressor = RandomForestRegressor(random_state=1, n_estimators=1000)\n",
        "regressor.fit(X_selected, y)\n",
        "print(\"=\"*10, \"Y négatifs\", \"=\"*10)\n",
        "print(pd.DataFrame(regressor.feature_importances_.T, index=X_selected.columns).sort_values(by=0, ascending=False))"
      ]
    },
    {
      "cell_type": "markdown",
      "metadata": {
        "id": "GkWas0vur4Au"
      },
      "source": [
        "# Sans les deux premières membranes"
      ]
    },
    {
      "cell_type": "code",
      "execution_count": null,
      "metadata": {
        "id": "lE5eMEitr_AE"
      },
      "outputs": [],
      "source": [
        "decalage = np.array([34, 22])\n",
        "decalage_full = 56\n",
        "\n",
        "def load_data():\n",
        "    df = pd.read_csv(\"./Donnees_peptides_membranes (Anionic-Cationic) VF.csv\", sep=\";\")\n",
        "    df = df.iloc[decalage_full:,:]\n",
        "    l = ['R1 A-', 'R2 A-', 'R3 A-', 'R1 C+', 'R2 C+', 'R3 C+']\n",
        "    y = df[l]\n",
        "    y.rename(columns={'R1 A-': 'R1_A', 'R2 A-': 'R2_A',\n",
        "                      'R3 A-': 'R3_A', 'R1 C+': 'R1_C',\n",
        "                      'R2 C+': 'R2_C', 'R3 C+': 'R3_C'},\n",
        "             inplace=True)\n",
        "    l = l + ['membrane', 'Peptides', 'bend_percent', 'turn_percent']\n",
        "    df = df.drop(columns=l)\n",
        "    return df, y\n",
        "\n",
        "def load_data_mean(boolean):\n",
        "    \"\"\"\n",
        "    Retourne les données. On prend la moyenne de la variable réponse.\n",
        "    :param boolean: True si on veut les données positives, False sinon.\n",
        "    :return:\n",
        "    \"\"\"\n",
        "    df, y = load_data()\n",
        "    if boolean:\n",
        "        y_pos = y[['R1_C', 'R2_C', 'R2_C']].mean(axis=1)\n",
        "        return df, y_pos\n",
        "    else:\n",
        "        y_neg = y[['R1_A', 'R2_A', 'R3_A']].mean(axis=1)\n",
        "        return df, y_neg"
      ]
    },
    {
      "cell_type": "markdown",
      "metadata": {
        "id": "qrzMTtfasCKW"
      },
      "source": [
        "## Corrélation membrane-membrane"
      ]
    },
    {
      "cell_type": "code",
      "execution_count": null,
      "metadata": {
        "colab": {
          "base_uri": "https://localhost:8080/",
          "height": 1000
        },
        "id": "1zdHfITQsBMr",
        "outputId": "9b2fe4c8-6e97-4596-a06d-b0cab31181d8"
      },
      "outputs": [],
      "source": [
        "X, y = load_data_mean(True)\n",
        "membrane = ['Thickness', 'Conductivity', 'Contact angle', 'hydrophilic pores',\n",
        "     'Volumetric porosity', 'Zeta-potential', 'Ra', 'Rz', 'Porosity FL',\n",
        "     ' Macropores FL']\n",
        "membrane_X = X[membrane]\n",
        "df_membrane = membrane_X.corr()\n",
        "plt.figure(figsize=(20, 20))\n",
        "sns.heatmap(df_membrane, annot=True)\n",
        "plt.savefig(\"./matrice_correlation_membrane_sans_PVDF800_CF55.pdf\")\n",
        "array_membrane = df_membrane.values"
      ]
    },
    {
      "cell_type": "code",
      "execution_count": null,
      "metadata": {
        "colab": {
          "base_uri": "https://localhost:8080/"
        },
        "id": "mLlCs_pAsNFh",
        "outputId": "7b36b6ed-e3f7-44e5-acd7-bb453bd14f67"
      },
      "outputs": [],
      "source": [
        "array_membrane = df_membrane.values\n",
        "print(\"=\"*20, \"Corrélation entre les caractéristiques de membranes\", \"=\"*20)\n",
        "for i in range(array_membrane.shape[0]):\n",
        "    for j in range(i+1, array_membrane.shape[1]):\n",
        "        if np.abs(array_membrane[i, j]) >= 0.6:\n",
        "            print(membrane[i], \" + \",  membrane[j], \"avec une corrélation de \", array_membrane[i, j])"
      ]
    },
    {
      "cell_type": "markdown",
      "metadata": {
        "id": "yUNzJ6OpsN8q"
      },
      "source": [
        "## Corrélation peptide-peptide"
      ]
    },
    {
      "cell_type": "code",
      "execution_count": null,
      "metadata": {
        "colab": {
          "base_uri": "https://localhost:8080/",
          "height": 1000
        },
        "id": "kAnOvrPysQB4",
        "outputId": "9a914593-f53d-402d-8934-c4a49e7545c6"
      },
      "outputs": [],
      "source": [
        "peptide = ['length_peptide', 'mol_weight', 'isoelectric_point',\n",
        "  'GRAVY', 'netCharge_at_pH7.0', 'm/z_at_pH7.0', 'avg_hydro',\n",
        "  'aromaticity', 'instability_index', 'avg_num_hacceptors',\n",
        "  'avg_num_hdonors', 'NumRotatableBonds', 'Hall Kier Alpha', 'Kappa 1',\n",
        "  'avg_NumRings', 'Fraction CSP3', 'TPSA', 'CrippenClogP', 'Hydro R',\n",
        "  'Basic R', 'Acidic R', 'Polar R', 'A', 'C', 'D', 'E', 'F', 'G', 'H',\n",
        "  'I', 'K', 'L', 'M', 'N', 'P', 'Q', 'R', 'S', 'T', 'V', 'W', 'Y']\n",
        "peptide_X = X[peptide]\n",
        "df_peptide = peptide_X.corr()\n",
        "plt.figure(figsize=(40, 40))\n",
        "sns.heatmap(df_peptide, annot=True)\n",
        "plt.savefig(\"./matrice_correlation_peptide_sans_PVDF800_CF55.pdf\")"
      ]
    },
    {
      "cell_type": "code",
      "execution_count": null,
      "metadata": {
        "colab": {
          "base_uri": "https://localhost:8080/"
        },
        "id": "0M53SECAsUWX",
        "outputId": "9823a51c-0ef9-4408-ead0-17cec8ee404f"
      },
      "outputs": [],
      "source": [
        "print(\"\\n\", \"=\" * 20, \"Corrélation entre les caractéristiques de peptides\", \"=\" * 20)\n",
        "array_peptide = df_peptide.values\n",
        "for i in range(array_peptide.shape[0]):\n",
        "    for j in range(i+1, array_peptide.shape[1]):\n",
        "        if np.abs(array_peptide[i, j]) >= 0.6:\n",
        "            print(peptide[i], \" + \", peptide[j], \"avec une corrélation de \", array_peptide[i, j])"
      ]
    },
    {
      "cell_type": "markdown",
      "metadata": {
        "id": "aprxrSowsXaq"
      },
      "source": [
        "## Corrélation données-étiquettes"
      ]
    },
    {
      "cell_type": "code",
      "execution_count": null,
      "metadata": {
        "colab": {
          "base_uri": "https://localhost:8080/",
          "height": 1000
        },
        "id": "EFA9iqJzsdCf",
        "outputId": "89424b40-a7b5-49d6-ae0e-5febe504cee6"
      },
      "outputs": [],
      "source": [
        "X, y_pos = load_data_mean(True)\n",
        "_, y_neg = load_data_mean(False)\n",
        "array = X.values\n",
        "pos_vals = []\n",
        "neg_vals = []\n",
        "for i in range(array.shape[1]):\n",
        "    pos_vals.append(pearsonr(array[:, i], y_pos)[0])\n",
        "    neg_vals.append(pearsonr(array[:, i], y_neg)[0])\n",
        "df_y = pd.DataFrame(np.array([pos_vals, neg_vals]).T, index=X.columns, columns=['Positif', 'Négatif'])\n",
        "plt.figure(figsize=(15, 20))\n",
        "sns.heatmap(df_y, annot=True)\n",
        "plt.savefig(\"./correlation_y_values_sans_PVDF800_CF55.pdf\")"
      ]
    },
    {
      "cell_type": "code",
      "execution_count": null,
      "metadata": {
        "id": "F_7vtCz-ulBr"
      },
      "outputs": [],
      "source": [
        "df_membrane_sans = df_membrane\n",
        "df_peptide_sans = df_peptide\n",
        "df_y_sans = df_y"
      ]
    },
    {
      "cell_type": "markdown",
      "metadata": {
        "id": "4pcSXQ5R9GKD"
      },
      "source": [
        "## Calcul de l'importance sans les deux premières membranes"
      ]
    },
    {
      "cell_type": "code",
      "execution_count": null,
      "metadata": {
        "colab": {
          "base_uri": "https://localhost:8080/"
        },
        "id": "NDPE3LUc9KIt",
        "outputId": "c8f9033e-da65-4a80-d64c-885694dec444"
      },
      "outputs": [],
      "source": [
        "X, y = load_data_mean(True)\n",
        "membrane = ['Contact angle', 'hydrophilic pores',\n",
        "            'Volumetric porosity', 'Zeta-potential', 'Rz', ' Macropores FL']\n",
        "\n",
        "peptide = ['mol_weight', 'isoelectric_point',\n",
        "           'GRAVY', 'm/z_at_pH7.0',\n",
        "            'Hall Kier Alpha', 'Polar R', 'A', 'D', 'F', 'H',\n",
        "            'K', 'L', 'N', 'Q', 'R', 'S', 'T', 'V', 'W', 'Y']\n",
        "X_selected = X[membrane + peptide]\n",
        "\n",
        "regressor = RandomForestRegressor(random_state=1, n_estimators=1000)\n",
        "regressor.fit(X_selected, y)\n",
        "print(\"=\"*10, \"Y positifs\", \"=\"*10)\n",
        "print(pd.DataFrame(regressor.feature_importances_.T, index=X_selected.columns).sort_values(by=0, ascending=False))"
      ]
    },
    {
      "cell_type": "code",
      "execution_count": null,
      "metadata": {
        "colab": {
          "base_uri": "https://localhost:8080/"
        },
        "id": "KS22TtDd9S8h",
        "outputId": "cc1653cd-40c6-42b8-9f06-b15eef511cdb"
      },
      "outputs": [],
      "source": [
        "X, y = load_data_mean(False)\n",
        "membrane = ['Contact angle', 'hydrophilic pores',\n",
        "            'Volumetric porosity', 'Zeta-potential', 'Rz', ' Macropores FL']\n",
        "\n",
        "peptide = ['mol_weight', 'isoelectric_point',\n",
        "           'GRAVY', 'm/z_at_pH7.0',\n",
        "            'Hall Kier Alpha', 'Polar R', 'A', 'D', 'F', 'H',\n",
        "            'K', 'L', 'N', 'Q', 'R', 'S', 'T', 'V', 'W', 'Y']\n",
        "X_selected = X[membrane + peptide]\n",
        "\n",
        "regressor = RandomForestRegressor(random_state=1, n_estimators=1000)\n",
        "regressor.fit(X_selected, y)\n",
        "print(\"=\"*10, \"Y négatifs\", \"=\"*10)\n",
        "print(pd.DataFrame(regressor.feature_importances_.T, index=X_selected.columns).sort_values(by=0, ascending=False))"
      ]
    }
  ],
  "metadata": {
    "colab": {
      "provenance": []
    },
    "kernelspec": {
      "display_name": "Python 3",
      "name": "python3"
    },
    "language_info": {
      "name": "python"
    }
  },
  "nbformat": 4,
  "nbformat_minor": 0
}
