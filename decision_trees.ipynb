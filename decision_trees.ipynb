{
  "cells": [
    {
      "cell_type": "code",
      "execution_count": null,
      "metadata": {
        "id": "O7Bw0n6SpVKN"
      },
      "outputs": [],
      "source": [
        "from sklearn.tree import DecisionTreeRegressor\n",
        "from sklearn.ensemble import RandomForestRegressor\n",
        "import graphviz\n",
        "import matplotlib.pyplot as plt\n",
        "import seaborn as sn\n",
        "from sklearn.model_selection import GridSearchCV\n",
        "from sklearn import tree\n",
        "import os\n",
        "import numpy as np\n",
        "import pandas as pd\n",
        "import graphviz\n",
        "from IPython.display import Image\n",
        "from difflib import SequenceMatcher\n",
        "pd.options.mode.chained_assignment = None"
      ]
    },
    {
      "cell_type": "code",
      "execution_count": null,
      "metadata": {
        "colab": {
          "base_uri": "https://localhost:8080/"
        },
        "id": "LGOWqUkS_SBV",
        "outputId": "e9a4f35c-da42-4ce5-954b-fbf2dba9a769"
      },
      "outputs": [],
      "source": [
        "filenames = next(os.walk(\"./\"), (None, None, []))[2]\n",
        "anion_file_name = None\n",
        "cation_file_name = None\n",
        "if len(filenames) == 0:\n",
        "  raise BaseException(\"No files were imported.\")\n",
        "for f in filenames:\n",
        "  if \"Anionic-Cationic\" in f:\n",
        "    anion_file_name = f\n",
        "    cation_file_name = f\n",
        "    break\n",
        "  elif \"Anionic\" in f:\n",
        "    anion_file_name = f\n",
        "  elif \"Cationic\" in f:\n",
        "    cation_file_name = f\n",
        "\n",
        "if anion_file_name is None or cation_file_name is None:\n",
        "    raise BaseException(\"Do the name of the files follow the following convention, such that it should contain 'Anionic-Cationic', 'Anionic' or 'Cationic'\")\n",
        "\n",
        "if anion_file_name == cation_file_name:\n",
        "  a = int(input(\"Do you wish to run the experiments on both the cations and anions at the same time ? (Enter 1 to continue) \"))\n",
        "  if a != 1:\n",
        "    anion_file_name = None\n",
        "    cation_file_name = None\n",
        "    raise BaseException(\"Automatically getting file names did not work.\\nThere appears to be a file that contains 'Anionic-Cationic' in its name.\")\n",
        "else:\n",
        "  a = int(input(\"Do you wish to use the following file with anions ? \"+ anion_file_name+ \" (Enter 1 to continue) \"))\n",
        "  b = int(input(\"Do you wish to use the following file with cations ? \"+ cation_file_name+ \" (Enter 1 to continue) \"))\n",
        "  if a != 1 or b != 1:\n",
        "    raise BaseException(\"Automatically getting file names did not work.\\n There seems to be multiple filenames that contain 'Anionic' or 'Cationic'\")"
      ]
    },
    {
      "cell_type": "code",
      "execution_count": null,
      "metadata": {
        "colab": {
          "base_uri": "https://localhost:8080/"
        },
        "id": "ZcBQ63Bp7dWN",
        "outputId": "2adcb9d1-42ab-43ab-e501-730046f2da75"
      },
      "outputs": [],
      "source": [
        "DEPTH = int(input(\"What tree depth would you like ?\" ))\n",
        "if DEPTH < 1:\n",
        "  raise BaseException(\"The depth entered is invalid. Please choose a positive number.\")\n",
        "\n",
        "nbr_me = int(input(\"Does your file contain 14 or 16 membranes ?\"))\n",
        "if nbr_me == 14:\n",
        "  DECALAGE = False\n",
        "else:\n",
        "  nbr_membranes = int(input(\"How many membranes do you wish to use ? (14 or 16)\"))\n",
        "  if nbr_membranes == 16:\n",
        "    DECALAGE = False\n",
        "  elif nbr_membranes == 14:\n",
        "    DECALAGE = True\n",
        "  else:\n",
        "    raise BaseException(\"The number of membranes entered is invalid. Please choose 14 or 16 membranes. \")"
      ]
    },
    {
      "cell_type": "code",
      "execution_count": null,
      "metadata": {
        "id": "fe8U4JnGpejx"
      },
      "outputs": [],
      "source": [
        "### DATALOADER\n",
        "\n",
        "decalage = np.array([34, 22])\n",
        "decalage_full = 56\n",
        "is_equal = (anion_file_name == cation_file_name)\n",
        "\n",
        "anion_file_name = \"./\" + anion_file_name\n",
        "cation_file_name = \"./\" + cation_file_name\n",
        "\n",
        "def load_data(boolean):\n",
        "    if boolean:\n",
        "      df = pd.read_csv(cation_file_name, sep=\";\")\n",
        "    else:\n",
        "      df = pd.read_csv(anion_file_name, sep=\";\")\n",
        "\n",
        "    if DECALAGE:\n",
        "      s = df.shape[0]\n",
        "      df = df.iloc[DECALAGE*(decalage[int(boolean)]*(1-int(is_equal))+ decalage_full*int(is_equal)):, :]\n",
        "\n",
        "\n",
        "    l = ['R1 A-', 'R2 A-', 'R3 A-', 'R1 C+', 'R2 C+', 'R3 C+']\n",
        "    y = df[l]\n",
        "    y.rename(columns={'R1 A-': 'R1_A', 'R2 A-': 'R2_A',\n",
        "                      'R3 A-': 'R3_A', 'R1 C+': 'R1_C',\n",
        "                      'R2 C+': 'R2_C', 'R3 C+': 'R3_C'},\n",
        "             inplace=True)\n",
        "    l = l + ['membrane', 'Peptides', 'bend_percent', 'turn_percent']\n",
        "    df = df.drop(columns=l)\n",
        "    return df, y\n",
        "\n",
        "def load_data_mean(boolean):\n",
        "    \"\"\"\n",
        "    Returns the data. We take the mean of the response variable.\n",
        "    :param boolean: True if we want positive data, False otherwise.  \n",
        "    :return:\n",
        "    \"\"\"\n",
        "    df, y = load_data(boolean)\n",
        "    if boolean:\n",
        "        y_pos = y[['R1_C', 'R2_C', 'R2_C']].mean(axis=1)\n",
        "        return df, y_pos\n",
        "    else:\n",
        "        y_neg = y[['R1_A', 'R2_A', 'R3_A']].mean(axis=1)\n",
        "        return df, y_neg\n",
        "\n",
        "def get_peptides_names(boolean):\n",
        "      if boolean:\n",
        "        df = pd.read_csv(cation_file_name, sep=\";\")\n",
        "      else:\n",
        "        df = pd.read_csv(anion_file_name, sep=\";\")\n",
        "\n",
        "      if DECALAGE:\n",
        "        df = df.iloc[DECALAGE*(decalage[int(boolean)]*(1-int(is_equal))+ decalage_full*int(is_equal)):, :]\n",
        "      return (df['membrane'] + ' + ' + df['Peptides'])\n",
        "\n",
        "def get_features(X, y, threshold):\n",
        "  regressor = RandomForestRegressor(random_state=1, n_estimators=1000)\n",
        "  regressor.fit(X, y)\n",
        "  feat_importance = pd.DataFrame(regressor.feature_importances_.T, index=X_selected.columns).sort_values(by=0,\n",
        "                                                                                                        ascending=False)\n",
        "  new_indexs_pos = feat_importance[feat_importance[0] > threshold].index\n",
        "  return new_indexs_pos, feat_importance\n",
        "\n",
        "def get_decisions(X, y):\n",
        "    regressor = DecisionTreeRegressor(random_state=1, max_depth=DEPTH, criterion='squared_error')\n",
        "    parameters = {'min_samples_split':[2,3,4,5,6],\n",
        "                  'min_samples_leaf':[2,3,4,5,6]}\n",
        "    clf = GridSearchCV(regressor, parameters)\n",
        "    clf.fit(X, y)\n",
        "\n",
        "    mean_test_score = clf.cv_results_['mean_test_score']\n",
        "    std_test_score = clf.cv_results_['std_test_score']\n",
        "\n",
        "    clf1 = DecisionTreeRegressor(random_state=1,\n",
        "                                 criterion='squared_error',\n",
        "                                 max_depth=DEPTH,\n",
        "                                 min_samples_split=clf.best_params_['min_samples_split'],\n",
        "                                 min_samples_leaf=clf.best_params_['min_samples_leaf'])\n",
        "    clf1.fit(X, y)\n",
        "    leaves = clf1.apply(X)\n",
        "    prediction = clf1.predict(X)\n",
        "\n",
        "    r2_score = clf1.score(X, y)\n",
        "    print(\"The R^2 of the tree is : \", r2_score)\n",
        "    return leaves, prediction, clf1\n",
        "\n",
        "def print_tree(clf, feature_name, file_name):\n",
        "    dot_data = tree.export_graphviz(clf, out_file=None,\n",
        "                            feature_names=feature_name,\n",
        "                            filled=True, rounded=True,\n",
        "                            special_characters=True, rotate=True, leaves_parallel=True)\n",
        "\n",
        "    graph = graphviz.Source(dot_data)\n",
        "    graph.dpi = 500\n",
        "    graph.size = \"30,30!\"\n",
        "    graph.render(file_name, format='jpg')\n",
        "    os.remove(file_name)"
      ]
    },
    {
      "cell_type": "markdown",
      "metadata": {
        "id": "iNGSnV3s2BOE"
      },
      "source": [
        "# cation 0.02\n"
      ]
    },
    {
      "cell_type": "code",
      "execution_count": null,
      "metadata": {
        "colab": {
          "base_uri": "https://localhost:8080/",
          "height": 900
        },
        "id": "S_WCmtEsqdvo",
        "outputId": "2b5109fe-6b63-4eab-d8ec-9908c31d1b2d"
      },
      "outputs": [],
      "source": [
        "anion_cation = True\n",
        "threshold = 0.02\n",
        "\n",
        "print(\"Results for the experiments with {'cations' if anion_cation else 'anions} and a threshold of {threshold}\")\n",
        "\n",
        "membrane = ['Contact angle', 'hydrophilic pores',\n",
        "        'Volumetric porosity', 'Zeta-potential', 'Rz', ' Macropores FL']\n",
        "\n",
        "peptide = ['mol_weight', 'isoelectric_point',\n",
        "        'GRAVY', 'm/z_at_pH7.0',\n",
        "        'Hall Kier Alpha', 'Polar R', 'A', 'D', 'F', 'H',\n",
        "        'K', 'L', 'N', 'Q', 'R', 'S', 'T', 'V', 'W', 'Y']\n",
        "\n",
        "features = membrane + peptide\n",
        "\n",
        "X, y = load_data_mean(anion_cation)\n",
        "X_selected = X[features]\n",
        "selected_features, feat_importance = get_features(X_selected, y, threshold)\n",
        "print(\"Selected features : \" , list(selected_features))\n",
        "feat_importance"
      ]
    },
    {
      "cell_type": "code",
      "execution_count": null,
      "metadata": {
        "colab": {
          "base_uri": "https://localhost:8080/",
          "height": 1000
        },
        "id": "NWulRwbMkuzW",
        "outputId": "b8582805-bff6-4b7d-eb73-af7186968407"
      },
      "outputs": [],
      "source": [
        "X_new = X_selected[selected_features]\n",
        "leaves, prediction, clf = get_decisions(X_new, y)\n",
        "print_tree(clf, selected_features, f\"tree_{anion_cation}_{threshold}_{DEPTH}_{nbr_membranes}\")\n",
        "Image(f\"tree_{anion_cation}_{threshold}_{DEPTH}_{nbr_membranes}.jpg\")"
      ]
    },
    {
      "cell_type": "code",
      "execution_count": null,
      "metadata": {
        "colab": {
          "base_uri": "https://localhost:8080/",
          "height": 513
        },
        "id": "ypw_uQHfb7v0",
        "outputId": "07f81bb4-a2ad-4b75-a88f-2a34f8705a23"
      },
      "outputs": [],
      "source": [
        "df_prediction = pd.DataFrame(prediction[np.argsort(leaves)], index=get_peptides_names(anion_cation)[DECALAGE*(decalage[int(anion_cation)]*(1-int(is_equal))+ decalage_full*int(is_equal)) + np.argsort(leaves)], columns=[\"Prédiction\"])\n",
        "df_x = pd.DataFrame(X_new.iloc[np.argsort(leaves), :])\n",
        "df_x.index = df_prediction.index\n",
        "# pd.concat([df_x, df_prediction], axis=1)\n",
        "df_y = pd.DataFrame(y[DECALAGE*(decalage[int(anion_cation)]*(1-int(is_equal))+ decalage_full*int(is_equal))+np.argsort(leaves)], columns=['target'])\n",
        "df_y.index = df_prediction.index\n",
        "pd.concat([df_x, df_prediction, df_y], axis=1)"
      ]
    },
    {
      "cell_type": "code",
      "execution_count": null,
      "metadata": {
        "id": "FhlfuKz8eLSE"
      },
      "outputs": [],
      "source": [
        "pd.concat([df_x, df_prediction, df_y], axis=1).to_csv(\"cation_0.02.csv\")"
      ]
    },
    {
      "cell_type": "markdown",
      "metadata": {
        "id": "rU0g1shE2FKH"
      },
      "source": [
        "# cation 0.05"
      ]
    },
    {
      "cell_type": "code",
      "execution_count": null,
      "metadata": {
        "colab": {
          "base_uri": "https://localhost:8080/",
          "height": 900
        },
        "id": "WPGvfi-H0Nra",
        "outputId": "b05220f0-f851-418d-9bfc-01dc24ffecf7"
      },
      "outputs": [],
      "source": [
        "anion_cation = True\n",
        "threshold = 0.05\n",
        "\n",
        "print(\"Results for the experiments with {'cations' if anion_cation else 'anions} and a threshold of {threshold}\")\n",
        "\n",
        "membrane = ['Contact angle', 'hydrophilic pores',\n",
        "        'Volumetric porosity', 'Zeta-potential', 'Rz', ' Macropores FL']\n",
        "\n",
        "peptide = ['mol_weight', 'isoelectric_point',\n",
        "        'GRAVY', 'm/z_at_pH7.0',\n",
        "        'Hall Kier Alpha', 'Polar R', 'A', 'D', 'F', 'H',\n",
        "        'K', 'L', 'N', 'Q', 'R', 'S', 'T', 'V', 'W', 'Y']\n",
        "\n",
        "features = membrane + peptide\n",
        "\n",
        "X, y = load_data_mean(anion_cation)\n",
        "X_selected = X[features]\n",
        "selected_features, feat_importance = get_features(X_selected, y, threshold)\n",
        "print(\"Selected features : \", selected_features)\n",
        "feat_importance"
      ]
    },
    {
      "cell_type": "code",
      "execution_count": null,
      "metadata": {
        "colab": {
          "base_uri": "https://localhost:8080/",
          "height": 843
        },
        "id": "1UYsn1zglIpP",
        "outputId": "99b83371-59cc-4e18-9ec8-d9f652c944e4"
      },
      "outputs": [],
      "source": [
        "X_new = X_selected[selected_features]\n",
        "leaves, prediction, clf = get_decisions(X_new, y)\n",
        "print_tree(clf, selected_features, f\"tree_{anion_cation}_{threshold}_{DEPTH}_{nbr_membranes}\")\n",
        "Image(f\"tree_{anion_cation}_{threshold}_{DEPTH}_{nbr_membranes}.jpg\")"
      ]
    },
    {
      "cell_type": "code",
      "execution_count": null,
      "metadata": {
        "colab": {
          "base_uri": "https://localhost:8080/",
          "height": 424
        },
        "id": "VZc5TfzpeJ-p",
        "outputId": "c1ff9539-0a20-4d2a-f8c9-2c85229dca74"
      },
      "outputs": [],
      "source": [
        "df_prediction = pd.DataFrame(prediction[np.argsort(leaves)], index=get_peptides_names(anion_cation)[DECALAGE*(decalage[int(anion_cation)]*(1-int(is_equal))+ decalage_full*int(is_equal)) + np.argsort(leaves)], columns=[\"Prédiction\"])\n",
        "df_x = pd.DataFrame(X_new.iloc[np.argsort(leaves), :])\n",
        "df_x.index = df_prediction.index\n",
        "# pd.concat([df_x, df_prediction], axis=1)\n",
        "df_y = pd.DataFrame(y[DECALAGE*(decalage[int(anion_cation)]*(1-int(is_equal))+ decalage_full*int(is_equal))+np.argsort(leaves)], columns=['target'])\n",
        "df_y.index = df_prediction.index\n",
        "pd.concat([df_x, df_prediction, df_y], axis=1)"
      ]
    },
    {
      "cell_type": "markdown",
      "metadata": {
        "id": "kHOflf6p2G6m"
      },
      "source": [
        "# anion 0.02"
      ]
    },
    {
      "cell_type": "code",
      "execution_count": null,
      "metadata": {
        "colab": {
          "base_uri": "https://localhost:8080/",
          "height": 936
        },
        "id": "4FvJNuB90QXx",
        "outputId": "172053fe-0c95-4620-d110-d9daf6c840be"
      },
      "outputs": [],
      "source": [
        "anion_cation = False\n",
        "threshold = 0.02\n",
        "\n",
        "print(\"Results for the experiments with {'cations' if anion_cation else 'anions} and a threshold of {threshold}\")\n",
        "\n",
        "membrane = ['Contact angle', 'hydrophilic pores',\n",
        "        'Volumetric porosity', 'Zeta-potential', 'Rz', ' Macropores FL']\n",
        "\n",
        "peptide = ['mol_weight', 'isoelectric_point',\n",
        "        'GRAVY', 'm/z_at_pH7.0',\n",
        "        'Hall Kier Alpha', 'Polar R', 'A', 'D', 'F', 'H',\n",
        "        'K', 'L', 'N', 'Q', 'R', 'S', 'T', 'V', 'W', 'Y']\n",
        "\n",
        "features = membrane + peptide\n",
        "\n",
        "X, y = load_data_mean(anion_cation)\n",
        "X_selected = X[features]\n",
        "selected_features, feat_importance = get_features(X_selected, y, threshold)\n",
        "print(\"Selected features : \", selected_features)\n",
        "feat_importance"
      ]
    },
    {
      "cell_type": "code",
      "execution_count": null,
      "metadata": {
        "colab": {
          "base_uri": "https://localhost:8080/",
          "height": 657
        },
        "id": "kxRYKzatlSfi",
        "outputId": "57ef0d3a-7910-48c4-d72e-b7c151cc29a0"
      },
      "outputs": [],
      "source": [
        "X_new = X_selected[selected_features]\n",
        "leaves, prediction, clf = get_decisions(X_new, y)\n",
        "print_tree(clf, selected_features, f\"tree_{anion_cation}_{threshold}_{DEPTH}_{nbr_membranes}\")\n",
        "Image(f\"tree_{anion_cation}_{threshold}_{DEPTH}_{nbr_membranes}.jpg\")"
      ]
    },
    {
      "cell_type": "code",
      "execution_count": null,
      "metadata": {
        "colab": {
          "base_uri": "https://localhost:8080/",
          "height": 458
        },
        "id": "juuxPRA5eNSh",
        "outputId": "76930e35-6b4e-48a1-b7d6-a8da07a07dc0"
      },
      "outputs": [],
      "source": [
        "df_prediction = pd.DataFrame(prediction[np.argsort(leaves)], index=get_peptides_names(anion_cation)[DECALAGE*(decalage[int(anion_cation)]*(1-int(is_equal))+ decalage_full*int(is_equal)) + np.argsort(leaves)], columns=[\"Prédiction\"])\n",
        "df_x = pd.DataFrame(X_new.iloc[np.argsort(leaves), :])\n",
        "df_x.index = df_prediction.index\n",
        "# pd.concat([df_x, df_prediction], axis=1)\n",
        "df_y = pd.DataFrame(y[DECALAGE*(decalage[int(anion_cation)]*(1-int(is_equal))+ decalage_full*int(is_equal))+np.argsort(leaves)], columns=['target'])\n",
        "df_y.index = df_prediction.index\n",
        "pd.concat([df_x, df_prediction, df_y], axis=1)"
      ]
    },
    {
      "cell_type": "code",
      "execution_count": null,
      "metadata": {
        "id": "Ol-TgTrgflKj"
      },
      "outputs": [],
      "source": [
        "pd.concat([df_x, df_prediction, df_y], axis=1).to_csv(\"anion_0.02.csv\")\n",
        "# pd.read_csv(\"./anion_0.02.csv\", index_col=[0] )"
      ]
    },
    {
      "cell_type": "markdown",
      "metadata": {
        "id": "ZjQz00OI2MGV"
      },
      "source": [
        "# anion 0.05"
      ]
    },
    {
      "cell_type": "code",
      "execution_count": null,
      "metadata": {
        "colab": {
          "base_uri": "https://localhost:8080/",
          "height": 900
        },
        "id": "eb4HQyjy0R2C",
        "outputId": "0b5d34ac-1361-4584-9a3e-d2803d80bac8"
      },
      "outputs": [],
      "source": [
        "anion_cation = False\n",
        "threshold = 0.05\n",
        "\n",
        "print(\"Results for the experiments with {'cations' if anion_cation else 'anions} and a threshold of {threshold}\")\n",
        "\n",
        "membrane = ['Contact angle', 'hydrophilic pores',\n",
        "        'Volumetric porosity', 'Zeta-potential', 'Rz', ' Macropores FL']\n",
        "\n",
        "peptide = ['mol_weight', 'isoelectric_point',\n",
        "        'GRAVY', 'm/z_at_pH7.0',\n",
        "        'Hall Kier Alpha', 'Polar R', 'A', 'D', 'F', 'H',\n",
        "        'K', 'L', 'N', 'Q', 'R', 'S', 'T', 'V', 'W', 'Y']\n",
        "\n",
        "features = membrane + peptide\n",
        "\n",
        "X, y = load_data_mean(anion_cation)\n",
        "X_selected = X[features]\n",
        "selected_features, feat_importance = get_features(X_selected, y, threshold)\n",
        "print(\"Selected features : \", selected_features)\n",
        "feat_importance"
      ]
    },
    {
      "cell_type": "code",
      "execution_count": null,
      "metadata": {
        "colab": {
          "base_uri": "https://localhost:8080/",
          "height": 829
        },
        "id": "Gb_RIOsWlZ2d",
        "outputId": "713a79ba-26e5-4d69-8add-0f1c1ba5eb06"
      },
      "outputs": [],
      "source": [
        "X_new = X_selected[selected_features]\n",
        "leaves, prediction, clf = get_decisions(X_new, y)\n",
        "print_tree(clf, selected_features, f\"tree_{anion_cation}_{threshold}_{DEPTH}_{nbr_membranes}\")\n",
        "Image(f\"tree_{anion_cation}_{threshold}_{DEPTH}_{nbr_membranes}.jpg\")"
      ]
    },
    {
      "cell_type": "code",
      "execution_count": null,
      "metadata": {
        "colab": {
          "base_uri": "https://localhost:8080/",
          "height": 424
        },
        "id": "u1sPnwlbePtz",
        "outputId": "ba31426a-2fb9-49b2-ac32-e05ef2b75ee7"
      },
      "outputs": [],
      "source": [
        "df_prediction = pd.DataFrame(prediction[np.argsort(leaves)], index=get_peptides_names(anion_cation)[DECALAGE*(decalage[int(anion_cation)]*(1-int(is_equal))+ decalage_full*int(is_equal)) + np.argsort(leaves)], columns=[\"Prédiction\"])\n",
        "df_x = pd.DataFrame(X_new.iloc[np.argsort(leaves), :])\n",
        "df_x.index = df_prediction.index\n",
        "# pd.concat([df_x, df_prediction], axis=1)\n",
        "df_y = pd.DataFrame(y[DECALAGE*(decalage[int(anion_cation)]*(1-int(is_equal))+ decalage_full*int(is_equal))+np.argsort(leaves)], columns=['target'])\n",
        "df_y.index = df_prediction.index\n",
        "pd.concat([df_x, df_prediction, df_y], axis=1)"
      ]
    }
  ],
  "metadata": {
    "colab": {
      "provenance": []
    },
    "kernelspec": {
      "display_name": "Python 3",
      "name": "python3"
    },
    "language_info": {
      "name": "python"
    }
  },
  "nbformat": 4,
  "nbformat_minor": 0
}
