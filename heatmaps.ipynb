{
  "cells": [
    {
      "cell_type": "code",
      "execution_count": null,
      "metadata": {
        "id": "mmTZjSz42Pl8"
      },
      "outputs": [],
      "source": [
        "from sklearn.tree import DecisionTreeRegressor\n",
        "from sklearn.ensemble import RandomForestRegressor\n",
        "import graphviz\n",
        "import matplotlib.pyplot as plt\n",
        "import seaborn as sn\n",
        "from sklearn.model_selection import GridSearchCV\n",
        "from sklearn import tree\n",
        "import os\n",
        "import numpy as np\n",
        "import pandas as pd\n",
        "import graphviz\n",
        "from IPython.display import Image\n",
        "from difflib import SequenceMatcher\n",
        "pd.options.mode.chained_assignment = None\n",
        "\n",
        "DECALAGE = False"
      ]
    },
    {
      "cell_type": "code",
      "execution_count": null,
      "metadata": {
        "colab": {
          "base_uri": "https://localhost:8080/"
        },
        "id": "JvOYvIGdFQsH",
        "outputId": "767e8ea5-9cde-400c-a130-40cf504e6e8f"
      },
      "outputs": [],
      "source": [
        "filenames = next(os.walk(\"./\"), (None, None, []))[2]\n",
        "anion_file_name = None\n",
        "cation_file_name = None\n",
        "if len(filenames) == 0:\n",
        "  raise BaseException(\"No files were imported.\")\n",
        "for f in filenames:\n",
        "  if \"Anionic-Cationic\" in f:\n",
        "    anion_file_name = f\n",
        "    cation_file_name = f\n",
        "    break\n",
        "  elif \"Anionic\" in f:\n",
        "    anion_file_name = f\n",
        "  elif \"Cationic\" in f:\n",
        "    cation_file_name = f\n",
        "\n",
        "if anion_file_name is None or cation_file_name is None:\n",
        "    raise BaseException(\"Do the name of the files follow the following convention, such that it should contain 'Anionic-Cationic', 'Anionic' or 'Cationic'\")\n",
        "\n",
        "if anion_file_name == cation_file_name:\n",
        "  a = int(input(\"Do you wish to run the experiments on both the cations and anions at the same time ? (Enter 1 to continue) \"))\n",
        "  if a != 1:\n",
        "    anion_file_name = None\n",
        "    cation_file_name = None\n",
        "    raise BaseException(\"Automatically getting file names did not work.\\nThere appears to be a file that contains 'Anionic-Cationic' in its name.\")\n",
        "else:\n",
        "  a = int(input(\"Do you wish to use the following file with anions ? \"+ anion_file_name+ \" (Enter 1 to continue) \"))\n",
        "  b = int(input(\"Do you wish to use the following file with cations ? \"+ cation_file_name+ \" (Enter 1 to continue) \"))\n",
        "  if a != 1 or b != 1:\n",
        "    raise BaseException(\"Automatically getting file names did not work.\\n There seems to be multiple filenames that contain 'Anionic' or 'Cationic'\")"
      ]
    },
    {
      "cell_type": "markdown",
      "metadata": {
        "id": "mpHQlJOpCwhu"
      },
      "source": [
        "# Code"
      ]
    },
    {
      "cell_type": "code",
      "execution_count": null,
      "metadata": {
        "id": "w5QLb12n2e8p"
      },
      "outputs": [],
      "source": [
        "### DATALOADER\n",
        "# complete_file_with_useless_peptides = DECALAGE\n",
        "# decalage = np.array([36, 22])\n",
        "decalage = np.array([34, 22])\n",
        "decalage_full = 56\n",
        "is_equal = (anion_file_name == cation_file_name)\n",
        "anion_file_name = \"./\" + anion_file_name\n",
        "cation_file_name = \"./\" + cation_file_name\n",
        "def load_data(boolean):\n",
        "    if boolean:\n",
        "      df = pd.read_csv(cation_file_name, sep=\";\")\n",
        "    else:\n",
        "      df = pd.read_csv(anion_file_name, sep=\";\")\n",
        "\n",
        "    if DECALAGE:\n",
        "      df = df.iloc[DECALAGE*(decalage[int(boolean)]*(1-int(is_equal))+ decalage_full*int(is_equal)):, :]\n",
        "\n",
        "    l = ['R1 A-', 'R2 A-', 'R3 A-', 'R1 C+', 'R2 C+', 'R3 C+']\n",
        "    y = df[l]\n",
        "    y.rename(columns={'R1 A-': 'R1_A', 'R2 A-': 'R2_A',\n",
        "                      'R3 A-': 'R3_A', 'R1 C+': 'R1_C',\n",
        "                      'R2 C+': 'R2_C', 'R3 C+': 'R3_C'},\n",
        "             inplace=True)\n",
        "    l = l + ['membrane', 'Peptides', 'bend_percent', 'turn_percent']\n",
        "    df = df.drop(columns=l)\n",
        "    return df, y\n",
        "\n",
        "def load_data_mean(boolean):\n",
        "    \"\"\"\n",
        "    Returns the data. We take the mean of the response variable.\n",
        "    :param boolean: True if we want positive data, False otherwise. \n",
        "    :return:\n",
        "    \"\"\"\n",
        "    df, y = load_data(boolean)\n",
        "    if boolean:\n",
        "        y_pos = y[['R1_C', 'R2_C', 'R2_C']].mean(axis=1)\n",
        "        return df, y_pos\n",
        "    else:\n",
        "        y_neg = y[['R1_A', 'R2_A', 'R3_A']].mean(axis=1)\n",
        "        return df, y_neg\n",
        "\n",
        "def get_peptides_names(boolean):\n",
        "      if boolean:\n",
        "        df = pd.read_csv(cation_file_name, sep=\";\")\n",
        "      else:\n",
        "        df = pd.read_csv(anion_file_name, sep=\";\")\n",
        "\n",
        "      if DECALAGE:\n",
        "        df = df.iloc[DECALAGE*(decalage[int(boolean)]*(1-int(is_equal))+ decalage_full*int(is_equal)):, :]\n",
        "      return (df['membrane'] + ' + ' + df['Peptides'])\n",
        "\n",
        "def get_features(X, y, threshold):\n",
        "  regressor = RandomForestRegressor(random_state=1, n_estimators=1000)\n",
        "  regressor.fit(X, y)\n",
        "  feat_importance = pd.DataFrame(regressor.feature_importances_.T, index=X_selected.columns).sort_values(by=0,\n",
        "                                                                                                        ascending=False)\n",
        "  new_indexs_pos = feat_importance[feat_importance[0] > threshold].index\n",
        "  return new_indexs_pos\n",
        "\n",
        "def get_decisions(X, y, depth):\n",
        "    regressor = DecisionTreeRegressor(random_state=1, max_depth=depth, criterion='squared_error')\n",
        "    scoring = {\"r2\": 'r2', 'rmse':'neg_root_mean_squared_error'}\n",
        "    parameters = {'min_samples_split':[2,3,4,5,6],\n",
        "                  'min_samples_leaf':[2,3,4,5,6]}\n",
        "    clf = GridSearchCV(regressor, parameters, scoring=scoring, refit=\"r2\")\n",
        "    clf.fit(X, y)\n",
        "\n",
        "    # mean_test_score = clf.cv_results_['mean_test_r2']\n",
        "    # std_test_score = clf.cv_results_['std_test_r2']\n",
        "    # mean_test_rmse = clf.cv_results_['mean_test_rmse']\n",
        "    # std_test_rmse = clf.cv_results_['std_test_rmse']\n",
        "\n",
        "    clf1 = DecisionTreeRegressor(random_state=1,\n",
        "                                 criterion='squared_error',\n",
        "                                 max_depth=depth,\n",
        "                                 min_samples_split=clf.best_params_['min_samples_split'],\n",
        "                                 min_samples_leaf=clf.best_params_['min_samples_leaf'])\n",
        "    clf1.fit(X, y)\n",
        "\n",
        "    n_leaves = clf1.tree_.n_leaves\n",
        "    indice = np.argmax(clf.cv_results_['mean_test_r2'])\n",
        "    mean_test = clf.cv_results_['mean_test_r2'][indice]\n",
        "    std_test = clf.cv_results_['std_test_r2'][indice]\n",
        "    best_test_rmse = -clf.cv_results_['mean_test_rmse'][indice]\n",
        "    best_std_rmse = clf.cv_results_['std_test_rmse'][indice]\n",
        "\n",
        "    mean_std = (f\"{mean_test:.3f}\" + u\"\\u00B1\" + f\"{std_test:.3f} \\n {best_test_rmse:.3f}\" + u\"\\u00B1\" + f\"{best_std_rmse:.3f}\")\n",
        "    # print(\"Le r^2 de l'arbre durant la validation croisée est de :\", mean_std)\n",
        "\n",
        "    r2_score = clf1.score(X, y)\n",
        "    # print(\"Le r^2 de l'arbre est : \", r2_score)\n",
        "    return r2_score, n_leaves, mean_test, mean_std, clf1\n",
        "\n",
        "def print_tree(clf, feature_name, file_name):\n",
        "    dot_data = tree.export_graphviz(clf, out_file=None,\n",
        "                            feature_names=feature_name,\n",
        "                            filled=True, rounded=True,\n",
        "                            special_characters=True, rotate=True, leaves_parallel=True)\n",
        "\n",
        "    graph = graphviz.Source(dot_data)\n",
        "    graph.dpi = 500\n",
        "    graph.size = \"30,30!\"\n",
        "    graph.render(file_name, format='jpg')\n",
        "    os.remove(file_name)"
      ]
    },
    {
      "cell_type": "markdown",
      "metadata": {
        "id": "aT1C_UvLAePA"
      },
      "source": [
        "# Avec 16 membranes"
      ]
    },
    {
      "cell_type": "code",
      "execution_count": null,
      "metadata": {
        "id": "0yIhuXiy32Ac"
      },
      "outputs": [],
      "source": [
        "membrane = ['Contact angle', 'hydrophilic pores',\n",
        "            'Volumetric porosity', 'Zeta-potential', 'Rz', ' Macropores FL']\n",
        "\n",
        "peptide = ['mol_weight', 'isoelectric_point',\n",
        "           'GRAVY', 'm/z_at_pH7.0',\n",
        "            'Hall Kier Alpha', 'Polar R', 'A', 'D', 'F', 'H',\n",
        "            'K', 'L', 'N', 'Q', 'R', 'S', 'T', 'V', 'W', 'Y']\n",
        "\n",
        "features = membrane + peptide\n",
        "\n",
        "DECALAGE = False\n",
        "\n",
        "depths = [2, 3, 4, 5, 6, 7, None]\n",
        "r2_results = []\n",
        "leaves_results = []\n",
        "mean_std_results = []\n",
        "mean_results = []\n",
        "\n",
        "for anion_cation in [True, False]:\n",
        "    for threshold in [0.02, 0.05]:\n",
        "        r2s = []\n",
        "        ns = []\n",
        "        mean_stds = []\n",
        "        means = []\n",
        "        for depth in depths:\n",
        "            X, y = load_data_mean(anion_cation)\n",
        "            X_selected = X[features]\n",
        "            regressor = RandomForestRegressor(random_state=1, n_estimators=1000)\n",
        "            regressor.fit(X_selected, y)\n",
        "            feat_importance = pd.DataFrame(regressor.feature_importances_.T, index=X_selected.columns).sort_values(by=0,\n",
        "                                                                                                                   ascending=False)\n",
        "            new_indexs_pos = feat_importance[feat_importance[0] > threshold].index\n",
        "            r2_score, n_leaves, mean_test, mean_std, clf = get_decisions(X_selected[new_indexs_pos], y, depth)\n",
        "\n",
        "            if depth in [4,5]:\n",
        "              print_tree(clf, new_indexs_pos, f\"decision_tree_16membranes_depth={depth}_threshold={threshold}_\"+(\"cation\" if anion_cation else \"anion\"))\n",
        "\n",
        "            r2s.append(r2_score)\n",
        "            ns.append(n_leaves)\n",
        "            mean_stds.append(mean_std)\n",
        "            means.append(mean_test)\n",
        "\n",
        "        r2_results.append(r2s)\n",
        "        leaves_results.append(ns)\n",
        "        mean_std_results.append(mean_stds)\n",
        "        mean_results.append(means)"
      ]
    },
    {
      "cell_type": "code",
      "execution_count": null,
      "metadata": {
        "colab": {
          "base_uri": "https://localhost:8080/",
          "height": 699
        },
        "id": "Pa4naWXXAYMm",
        "outputId": "ee7af5f3-59a9-44c0-efca-60c84d2344d6"
      },
      "outputs": [],
      "source": [
        "val_df = pd.DataFrame(r2_results, index=['Cation 0.02', 'Cation 0.05', 'Anion 0.02', 'Anion 0.05'], columns=[2, 3, 4, 5, 6, 7, \"None\"])\n",
        "plt.figure(figsize = (16,8))\n",
        "plt.title(\"Comparison of R^2 and RMSE for each experiments at each depth\")\n",
        "sn.heatmap(val_df, annot=False, cmap='Blues')\n",
        "sn.heatmap(val_df, annot=mean_std_results, annot_kws={'va':'bottom'}, cbar=False, fmt='', cmap='Blues')\n",
        "sn.heatmap(val_df, annot=r2_results, annot_kws={'va':'top'}, fmt='.3g', cbar=False, cmap='Blues')\n",
        "plt.savefig(\"./exp_results_heatmaps_16_membranes.jpg\")"
      ]
    },
    {
      "cell_type": "code",
      "execution_count": null,
      "metadata": {
        "colab": {
          "base_uri": "https://localhost:8080/",
          "height": 468
        },
        "id": "hNLLFd2WAaT_",
        "outputId": "4f01d84c-c4d6-48bf-c82e-56a752d63b95"
      },
      "outputs": [],
      "source": [
        "plt.figure(figsize = (10,5))\n",
        "plt.title(\"Comparison of number of leaves for each experiments at each depth\")\n",
        "leaves_df = pd.DataFrame(leaves_results, index=['Cation 0.02', 'Cation 0.05', 'Anion 0.02', 'Anion 0.05'], columns=[2, 3, 4, 5, 6, 7, \"None\"])\n",
        "sn.heatmap(leaves_df, annot=leaves_df, cmap='Blues')\n",
        "plt.savefig(\"./depth_heatmaps_16_membranes.jpg\")"
      ]
    },
    {
      "cell_type": "markdown",
      "metadata": {
        "id": "ahCJdsTiAbWI"
      },
      "source": [
        "# Avec 14 membranes"
      ]
    },
    {
      "cell_type": "code",
      "execution_count": null,
      "metadata": {
        "id": "9r2QZebo-4h4"
      },
      "outputs": [],
      "source": [
        "membrane = ['Contact angle', 'hydrophilic pores',\n",
        "            'Volumetric porosity', 'Zeta-potential', 'Rz', ' Macropores FL']\n",
        "\n",
        "peptide = ['mol_weight', 'isoelectric_point',\n",
        "           'GRAVY', 'm/z_at_pH7.0',\n",
        "            'Hall Kier Alpha', 'Polar R', 'A', 'D', 'F', 'H',\n",
        "            'K', 'L', 'N', 'Q', 'R', 'S', 'T', 'V', 'W', 'Y']\n",
        "\n",
        "features = membrane + peptide\n",
        "\n",
        "DECALAGE = True\n",
        "\n",
        "depths = [2, 3, 4, 5, 6, 7, None]\n",
        "r2_results = []\n",
        "leaves_results = []\n",
        "mean_std_results = []\n",
        "mean_results = []\n",
        "\n",
        "for anion_cation in [True, False]:\n",
        "    for threshold in [0.02, 0.05]:\n",
        "        r2s = []\n",
        "        ns = []\n",
        "        mean_stds = []\n",
        "        means = []\n",
        "        for depth in depths:\n",
        "            X, y = load_data_mean(anion_cation)\n",
        "            X_selected = X[features]\n",
        "            regressor = RandomForestRegressor(random_state=1, n_estimators=1000)\n",
        "            regressor.fit(X_selected, y)\n",
        "            feat_importance = pd.DataFrame(regressor.feature_importances_.T, index=X_selected.columns).sort_values(by=0,\n",
        "                                                                                                                   ascending=False)\n",
        "            new_indexs_pos = feat_importance[feat_importance[0] > threshold].index\n",
        "            r2_score, n_leaves, mean_test, mean_std, clf = get_decisions(X_selected[new_indexs_pos], y, depth)\n",
        "\n",
        "            if depth in [4,5]:\n",
        "              print_tree(clf, new_indexs_pos, f\"decision_tree_14membranes_depth={depth}_threshold={threshold}_\"+(\"cation\" if anion_cation else \"anion\"))\n",
        "            r2s.append(r2_score)\n",
        "            ns.append(n_leaves)\n",
        "            mean_stds.append(mean_std)\n",
        "            means.append(mean_test)\n",
        "\n",
        "        r2_results.append(r2s)\n",
        "        leaves_results.append(ns)\n",
        "        mean_std_results.append(mean_stds)\n",
        "        mean_results.append(means)"
      ]
    },
    {
      "cell_type": "code",
      "execution_count": null,
      "metadata": {
        "colab": {
          "base_uri": "https://localhost:8080/",
          "height": 699
        },
        "id": "xlrJITONA2Nw",
        "outputId": "cd35e959-6cdc-4c97-b403-68cbc0a1333f"
      },
      "outputs": [],
      "source": [
        "val_df = pd.DataFrame(r2_results, index=['Cation 0.02', 'Cation 0.05', 'Anion 0.02', 'Anion 0.05'], columns=[2, 3, 4, 5, 6, 7, \"None\"])\n",
        "plt.figure(figsize = (16,8))\n",
        "plt.title(\"Comparison of R^2 and RMSE for each experiments at each depth\")\n",
        "sn.heatmap(val_df, annot=False, cmap='Blues')\n",
        "sn.heatmap(val_df, annot=mean_std_results, annot_kws={'va':'bottom'}, cbar=False, fmt='', cmap='Blues')\n",
        "sn.heatmap(val_df, annot=r2_results, annot_kws={'va':'top'}, fmt='.3g', cbar=False, cmap='Blues')\n",
        "plt.savefig(\"./exp_results_heatmaps_14_membranes.jpg\")\n"
      ]
    },
    {
      "cell_type": "code",
      "execution_count": null,
      "metadata": {
        "colab": {
          "base_uri": "https://localhost:8080/",
          "height": 468
        },
        "id": "YgRIDKnkA4CY",
        "outputId": "d7a2c027-59a8-4ac6-b6d1-66898b2467e5"
      },
      "outputs": [],
      "source": [
        "plt.figure(figsize = (10,5))\n",
        "plt.title(\"Comparison of number of leaves for each experiments at each depth\")\n",
        "leaves_df = pd.DataFrame(leaves_results, index=['Cation 0.02', 'Cation 0.05', 'Anion 0.02', 'Anion 0.05'], columns=[2, 3, 4, 5, 6, 7, \"None\"])\n",
        "sn.heatmap(leaves_df, annot=leaves_df, cmap='Blues')\n",
        "plt.savefig(\"./depth_heatmaps_14_membranes.jpg\")"
      ]
    }
  ],
  "metadata": {
    "colab": {
      "provenance": []
    },
    "kernelspec": {
      "display_name": "Python 3",
      "name": "python3"
    },
    "language_info": {
      "name": "python"
    }
  },
  "nbformat": 4,
  "nbformat_minor": 0
}
